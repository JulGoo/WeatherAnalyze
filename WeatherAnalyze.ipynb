{
  "nbformat": 4,
  "nbformat_minor": 0,
  "metadata": {
    "colab": {
      "provenance": []
    },
    "kernelspec": {
      "name": "python3",
      "display_name": "Python 3"
    },
    "language_info": {
      "name": "python"
    }
  },
  "cells": [
    {
      "cell_type": "markdown",
      "source": [
        "## CSV 불러오기"
      ],
      "metadata": {
        "id": "iznSTqvQ3S7Z"
      }
    },
    {
      "cell_type": "code",
      "execution_count": 3,
      "metadata": {
        "colab": {
          "base_uri": "https://localhost:8080/"
        },
        "id": "mnnhR2l_BXPc",
        "outputId": "a6262f9e-24ae-457a-b9d1-0cc8d7af4142"
      },
      "outputs": [
        {
          "output_type": "stream",
          "name": "stdout",
          "text": [
            "실제 기상 데이터\n",
            "     지점                일시  기온(°C)  강수량(mm)  풍속(m/s)  풍향(16방위)  습도(%)  증기압(hPa)  \\\n",
            "0  201  2023-01-01 00:00     3.2      NaN      2.8     290.0     69       5.3   \n",
            "1  201  2023-01-01 01:00     2.9      NaN      2.3     270.0     66       5.0   \n",
            "2  201  2023-01-01 02:00     2.1      NaN      2.4     270.0     71       5.0   \n",
            "3  201  2023-01-01 03:00     2.0      NaN      1.1     180.0     65       4.6   \n",
            "4  201  2023-01-01 04:00     0.7      NaN      1.1     200.0     57       3.7   \n",
            "\n",
            "   이슬점온도(°C)  현지기압(hPa)  ...  운형(운형약어)  최저운고(100m )  시정(10m)  지면상태(지면상태코드)  \\\n",
            "0       -1.9     1024.2  ...       NaN          NaN    799.0           NaN   \n",
            "1       -2.8     1023.8  ...       NaN         75.0    749.0           NaN   \n",
            "2       -2.6     1024.0  ...       NaN         15.0    675.0           NaN   \n",
            "3       -3.9     1024.3  ...       NaN         11.0    800.0           NaN   \n",
            "4       -6.8     1024.4  ...       NaN         13.0   1346.0           NaN   \n",
            "\n",
            "   현상번호(국내식)  지면온도(°C)  5cm 지중온도(°C)  10cm 지중온도(°C)  20cm 지중온도(°C)  \\\n",
            "0        NaN      -0.3           NaN            NaN            NaN   \n",
            "1        NaN      -0.3           NaN            NaN            NaN   \n",
            "2        NaN      -0.3           NaN            NaN            NaN   \n",
            "3        NaN      -0.3           NaN            NaN            NaN   \n",
            "4        NaN      -0.3           NaN            NaN            NaN   \n",
            "\n",
            "   30cm 지중온도(°C)  \n",
            "0            NaN  \n",
            "1            NaN  \n",
            "2            NaN  \n",
            "3            NaN  \n",
            "4            NaN  \n",
            "\n",
            "[5 rows x 27 columns]\n"
          ]
        }
      ],
      "source": [
        "import pandas as pd\n",
        "import numpy as np\n",
        "\n",
        "actual_weather_path = './SURFACE_ASOS_201_HR_2023_2023_2024.csv'\n",
        "forecast_rain_path = './불은면_1시간강수량_20230101_20231231.csv'\n",
        "forecast_temp_path = './불은면_1시간기온_20230101_20231231.csv'\n",
        "forecast_snow_path = './불은면_1시간적설_20230101_20231231.csv'\n",
        "forecast_rain_type_path = './불은면_강수형태_20230101_20231231.csv'\n",
        "forecast_rain_prob_path = './불은면_강수확률_20230101_20231231.csv'\n",
        "forecast_rain_humidity_path = './불은면_습도_20230101_20231231.csv'\n",
        "forecast_rain_speed_path = './불은면_풍속_20230101_20231231.csv'\n",
        "forecast_wind_direction_path = './불은면_풍향_20230101_20231231.csv'\n",
        "forecast_status_path = './불은면_하늘상태_20230101_20231231.csv'\n",
        "\n",
        "actual_weather = pd.read_csv(actual_weather_path, encoding='cp949')\n",
        "forecast_rain = pd.read_csv(forecast_rain_path, encoding='cp949', header=0, names=['날짜', '시간', '예보시간', '강수량'])\n",
        "forecast_temp = pd.read_csv(forecast_temp_path, encoding='cp949', header=0, names=['날짜', '시간', '예보시간', '기온'])\n",
        "forecast_snow = pd.read_csv(forecast_snow_path, encoding='cp949', header=0, names=['날짜', '시간', '예보시간', '적설'])\n",
        "forecast_rain_type = pd.read_csv(forecast_rain_type_path, encoding='cp949', header=0, names=['날짜', '시간', '예보시간', '강수형태'])\n",
        "forecast_rain_prob = pd.read_csv(forecast_rain_prob_path, encoding='cp949', header=0, names=['날짜', '시간', '예보시간', '강수확률'])\n",
        "forecast_rain_humidity = pd.read_csv(forecast_rain_humidity_path, encoding='cp949', header=0, names=['날짜', '시간', '예보시간', '습도'])\n",
        "forecast_rain_speed = pd.read_csv(forecast_rain_speed_path, encoding='cp949', header=0, names=['날짜', '시간', '예보시간', '풍속'])\n",
        "forecast_wind_direction = pd.read_csv(forecast_wind_direction_path, encoding='cp949', header=0, names=['날짜', '시간', '예보시간', '풍향'])\n",
        "forecast_status = pd.read_csv(forecast_status_path, encoding='cp949', header=0, names=['날짜', '시간', '예보시간', '하늘상태'])\n",
        "\n",
        "print(\"실제 기상 데이터\\n\", actual_weather.head())\n",
        "# print(\"\\n1시간 강수량 데이터\\n\", forecast_rain.head())\n",
        "# print(\"\\n1시간 기온 데이터\\n\", forecast_temp.head())\n",
        "# print(\"\\n1시간 적설량 데이터\\n\", forecast_snow.head())\n",
        "# print(\"\\n강수 형태 데이터\\n\", forecast_rain_type.head())\n",
        "# print(\"\\n강수 확률 데이터\\n\", forecast_rain_prob.head())\n",
        "# print(\"\\n하늘 상태 데이터\\n\", forecast_status.head())"
      ]
    },
    {
      "cell_type": "markdown",
      "source": [
        "## forecast_weather 데이터 전처리"
      ],
      "metadata": {
        "id": "GPrVL2QC3MjE"
      }
    },
    {
      "cell_type": "code",
      "source": [
        "# 각 데이터프레임에 날짜와 시간 예보시간 기준으로 합치기\n",
        "forecast_weather = pd.concat([forecast_rain, forecast_temp, forecast_snow, forecast_rain_type, forecast_rain_prob,\n",
        "                           forecast_rain_humidity, forecast_rain_speed, forecast_wind_direction, forecast_status],\n",
        "                          axis=1)\n",
        "\n",
        "fw_df = pd.DataFrame(forecast_weather)\n",
        "\n",
        "# 중복되는 날짜와 시간 컬럼 제거 (첫 번째 데이터프레임 기준으로 유지)\n",
        "fw_df = fw_df.loc[:, ~fw_df.columns.duplicated()]\n",
        "\n",
        "# forecast_weather를 '통합예보데이터.csv' 파일로 저장\n",
        "fw_df.to_csv('통합예보데이터.csv', index=False, encoding='cp949')"
      ],
      "metadata": {
        "id": "CdVfv6wRGX4v"
      },
      "execution_count": 4,
      "outputs": []
    },
    {
      "cell_type": "markdown",
      "source": [
        "### 날짜"
      ],
      "metadata": {
        "id": "OWLlSCSD7-NK"
      }
    },
    {
      "cell_type": "code",
      "source": [
        "# 2023년 1월 1일 데이터에만 없는 날짜 안내 행 추가\n",
        "# 빈 문자열을 NaN으로 변경하여 할당 (\"\" 빈 문자열을 넣었다가 데이터 타입 불일치 오류 발생 -> NaN으로 해결)\n",
        "fw_df.loc[0] = [' Start : 20230101 ', np.nan, np.nan, np.nan, np.nan, np.nan, np.nan, np.nan, np.nan, np.nan, np.nan, np.nan]\n",
        "\n",
        "# 결과 확인\n",
        "#print(fw_df.head())\n",
        "\n",
        "### 날짜: Start:20230102 형식으로 중간중간 문자열 데이터 존재 -> 년월일 추출해 변환 2023-01-01\n",
        "# Start 행 날짜 형식으로 변경\n",
        "for day in fw_df['날짜']:\n",
        "  if \"Start\" in day:\n",
        "    date_str = day.split(\":\")[1].strip()\n",
        "    # 날짜 형식 변경: \"20231003\" -> \"2023-10-03\"\n",
        "    formatted_date = f\"{date_str[:4]}-{date_str[4:6]}-{date_str[6:]}\"\n",
        "    #print(formatted_date)\n",
        "    fw_df.loc[fw_df['날짜'] == day, '날짜'] = formatted_date\n",
        "\n",
        "# 날짜 열에서 숫자형이거나 다른 형식은 NaN으로 변환\n",
        "fw_df['날짜'] = fw_df['날짜'].apply(lambda x: x if isinstance(x, str) and len(x) == 10 else np.nan)\n",
        "\n",
        "# 숫자 행을 이전 행인 변경한 날짜로 채우기\n",
        "fw_df['날짜'] = fw_df['날짜'].ffill()"
      ],
      "metadata": {
        "id": "zy2UMto33lGa"
      },
      "execution_count": 5,
      "outputs": []
    },
    {
      "cell_type": "markdown",
      "source": [
        "### 시간"
      ],
      "metadata": {
        "id": "mq5DsWHj8HiG"
      }
    },
    {
      "cell_type": "code",
      "source": [
        "### 시간: 2시 200 으로 표기 -> 2:00 시간 형식으로 변환\n",
        "fw_df['시간'] = fw_df['시간'].apply(\n",
        "    lambda x: f\"{int(x) // 100:02}:{int(x) % 100:02}\" if pd.notnull(x) and x != '' else x\n",
        "    )\n",
        "#print(fw_df['시간'])\n",
        "\n",
        "### 변경했던 Start 날짜 행 제거하기(NaN이 10개 이상일 경우)\n",
        "fw_df = fw_df[fw_df.isna().sum(axis=1) < 10]\n",
        "\n",
        "print(fw_df)"
      ],
      "metadata": {
        "colab": {
          "base_uri": "https://localhost:8080/"
        },
        "id": "hna1eP2W3pOO",
        "outputId": "0d51a4a7-639c-4385-a018-8f05a46ffd63"
      },
      "execution_count": 7,
      "outputs": [
        {
          "output_type": "stream",
          "name": "stdout",
          "text": [
            "                날짜     시간  예보시간  강수량   기온   적설  강수형태  강수확률    습도   풍속     풍향  \\\n",
            "1       2023-01-01  02:00   7.0  0.0 -4.0  0.0   0.0   0.0  50.0  4.2  318.0   \n",
            "2       2023-01-01  02:00   8.0  0.0 -4.0  0.0   0.0  20.0  55.0  4.6  318.0   \n",
            "3       2023-01-01  02:00   9.0  0.0 -5.0  0.0   0.0  20.0  55.0  4.8  320.0   \n",
            "4       2023-01-01  02:00  10.0  0.0 -6.0  0.0   0.0  30.0  60.0  5.0  322.0   \n",
            "5       2023-01-01  02:00  11.0  0.0 -6.0  0.0   0.0  20.0  60.0  5.0  325.0   \n",
            "...            ...    ...   ...  ...  ...  ...   ...   ...   ...  ...    ...   \n",
            "185779  2023-12-31  23:00  60.0  0.0 -1.0  0.0   0.0   0.0  85.0  3.3  315.0   \n",
            "185780  2023-12-31  23:00  61.0  0.0 -2.0  0.0   0.0   0.0  85.0  2.9  316.0   \n",
            "185781  2023-12-31  23:00  62.0  0.0 -2.0  0.0   0.0   0.0  85.0  2.5  318.0   \n",
            "185782  2023-12-31  23:00  63.0  0.0 -3.0  0.0   0.0   0.0  85.0  2.1  323.0   \n",
            "185783  2023-12-31  23:00  64.0  0.0  NaN  0.0   0.0   0.0  85.0  1.9  328.0   \n",
            "\n",
            "        하늘상태  \n",
            "1        1.0  \n",
            "2        3.0  \n",
            "3        3.0  \n",
            "4        4.0  \n",
            "5        3.0  \n",
            "...      ...  \n",
            "185779   1.0  \n",
            "185780   1.0  \n",
            "185781   1.0  \n",
            "185782   1.0  \n",
            "185783   1.0  \n",
            "\n",
            "[185419 rows x 12 columns]\n"
          ]
        }
      ]
    },
    {
      "cell_type": "markdown",
      "source": [
        "### 일시"
      ],
      "metadata": {
        "id": "v04x0fV28K9C"
      }
    },
    {
      "cell_type": "code",
      "source": [
        "### 일시: 날짜 + 시간 -> datetime 형식으로 결합 2023-01-01 2:00\n",
        "fw_df['일시'] = fw_df['날짜'].astype(str) + ' ' + fw_df['시간']\n",
        "fw_df['일시'] = pd.to_datetime(fw_df['일시'], format='%Y-%m-%d %H:%M')\n",
        "print(fw_df['일시'])\n",
        "\n",
        "# forecast_weather를 '통합예보데이터.csv' 파일로 저장\n",
        "fw_df.to_csv('통합예보데이터.csv', index=False, encoding='cp949')"
      ],
      "metadata": {
        "colab": {
          "base_uri": "https://localhost:8080/"
        },
        "id": "BndclHeg3qFZ",
        "outputId": "984ea57e-a5c5-4bf9-c85e-6144a54ff48f"
      },
      "execution_count": 10,
      "outputs": [
        {
          "output_type": "stream",
          "name": "stdout",
          "text": [
            "1        2023-01-01 02:00:00\n",
            "2        2023-01-01 02:00:00\n",
            "3        2023-01-01 02:00:00\n",
            "4        2023-01-01 02:00:00\n",
            "5        2023-01-01 02:00:00\n",
            "                 ...        \n",
            "185779   2023-12-31 23:00:00\n",
            "185780   2023-12-31 23:00:00\n",
            "185781   2023-12-31 23:00:00\n",
            "185782   2023-12-31 23:00:00\n",
            "185783   2023-12-31 23:00:00\n",
            "Name: 일시, Length: 185419, dtype: datetime64[ns]\n"
          ]
        }
      ]
    }
  ]
}
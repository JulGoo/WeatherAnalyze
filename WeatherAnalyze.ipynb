{
  "nbformat": 4,
  "nbformat_minor": 0,
  "metadata": {
    "colab": {
      "provenance": [],
      "collapsed_sections": [
        "Eq8XzjObYgjc"
      ]
    },
    "kernelspec": {
      "name": "python3",
      "display_name": "Python 3"
    },
    "language_info": {
      "name": "python"
    }
  },
  "cells": [
    {
      "cell_type": "markdown",
      "source": [
        "content 리셋"
      ],
      "metadata": {
        "id": "LZxVzGR8XD8c"
      }
    },
    {
      "cell_type": "code",
      "source": [
        "import os\n",
        "import shutil\n",
        "\n",
        "# 'content' 디렉토리 경로\n",
        "content_dir = '/content/'\n",
        "\n",
        "# 디렉토리 내의 모든 파일과 디렉토리 삭제\n",
        "for filename in os.listdir(content_dir):\n",
        "    filepath = os.path.join(content_dir, filename)\n",
        "    try:\n",
        "        if os.path.isfile(filepath) or os.path.islink(filepath):\n",
        "            os.unlink(filepath)\n",
        "        elif os.path.isdir(filepath):\n",
        "            shutil.rmtree(filepath)\n",
        "    except Exception as e:\n",
        "        print(f\"Failed to delete {filepath}. Reason: {e}\")\n",
        "\n",
        "print(\"content 디렉토리 내의 모든 파일이 삭제되었습니다.\")"
      ],
      "metadata": {
        "colab": {
          "base_uri": "https://localhost:8080/"
        },
        "id": "7waLl4K5W_ue",
        "outputId": "0ab7f4b3-85ed-429b-a412-8c0630384eb4"
      },
      "execution_count": 12,
      "outputs": [
        {
          "output_type": "stream",
          "name": "stdout",
          "text": [
            "content 디렉토리 내의 모든 파일이 삭제되었습니다.\n"
          ]
        }
      ]
    },
    {
      "cell_type": "markdown",
      "source": [
        "## CSV 불러오기"
      ],
      "metadata": {
        "id": "iznSTqvQ3S7Z"
      }
    },
    {
      "cell_type": "code",
      "execution_count": 14,
      "metadata": {
        "id": "mnnhR2l_BXPc"
      },
      "outputs": [],
      "source": [
        "import pandas as pd\n",
        "import numpy as np\n",
        "\n",
        "actual_weather_path = './SURFACE_ASOS_201_HR_2023_2023_2024.csv'\n",
        "\n",
        "forecast_rain_path = './불은면_1시간강수량_20230101_20231231.csv'\n",
        "forecast_temp_path = './불은면_1시간기온_20230101_20231231.csv'\n",
        "forecast_snow_path = './불은면_1시간적설_20230101_20231231.csv'\n",
        "forecast_humidity_path = './불은면_습도_20230101_20231231.csv'\n",
        "forecast_wind_speed_path = './불은면_풍속_20230101_20231231.csv'\n",
        "forecast_wind_direction_path = './불은면_풍향_20230101_20231231.csv'\n",
        "\n",
        "add_forecast_rain_path = './불은면_1시간강수량_20221229_20221231.csv'\n",
        "add_forecast_temp_path = './불은면_1시간기온_20221229_20221231.csv'\n",
        "add_forecast_snow_path = './불은면_1시간적설_20221229_20221231.csv'\n",
        "add_forecast_humidity_path = './불은면_습도_20221229_20221231.csv'\n",
        "add_forecast_wind_speed_path = './불은면_풍속_20221229_20221231.csv'\n",
        "add_forecast_wind_direction_path = './불은면_풍향_20221229_20221231.csv'\n",
        "\n",
        "actual_weather = pd.read_csv(actual_weather_path, encoding='cp949')\n",
        "\n",
        "forecast_rain = pd.read_csv(forecast_rain_path, encoding='cp949', header=0, names=['날짜', '시간', '예보시간', '강수량'])\n",
        "forecast_temp = pd.read_csv(forecast_temp_path, encoding='cp949', header=0, names=['날짜', '시간', '예보시간', '기온'])\n",
        "forecast_snow = pd.read_csv(forecast_snow_path, encoding='cp949', header=0, names=['날짜', '시간', '예보시간', '적설'])\n",
        "forecast_humidity = pd.read_csv(forecast_humidity_path, encoding='cp949', header=0, names=['날짜', '시간', '예보시간', '습도'])\n",
        "forecast_wind_speed = pd.read_csv(forecast_wind_speed_path, encoding='cp949', header=0, names=['날짜', '시간', '예보시간', '풍속'])\n",
        "forecast_wind_direction = pd.read_csv(forecast_wind_direction_path, encoding='cp949', header=0, names=['날짜', '시간', '예보시간', '풍향'])\n",
        "\n",
        "add_forecast_rain = pd.read_csv(add_forecast_rain_path, encoding='cp949', header=0, names=['날짜', '시간', '예보시간', '강수량'])\n",
        "add_forecast_temp = pd.read_csv(add_forecast_temp_path, encoding='cp949', header=0, names=['날짜', '시간', '예보시간', '기온'])\n",
        "add_forecast_snow = pd.read_csv(add_forecast_snow_path, encoding='cp949', header=0, names=['날짜', '시간', '예보시간', '적설'])\n",
        "add_forecast_humidity = pd.read_csv(add_forecast_humidity_path, encoding='cp949', header=0, names=['날짜', '시간', '예보시간', '습도'])\n",
        "add_forecast_wind_speed = pd.read_csv(add_forecast_wind_speed_path, encoding='cp949', header=0, names=['날짜', '시간', '예보시간', '풍속'])\n",
        "add_forecast_wind_direction = pd.read_csv(add_forecast_wind_direction_path, encoding='cp949', header=0, names=['날짜', '시간', '예보시간', '풍향'])\n",
        "\n",
        "# print(\"실제 기상 데이터\\n\", actual_weather.head())\n",
        "# print(\"\\n1시간 강수량 데이터\\n\", forecast_rain.head())\n",
        "# print(\"\\n1시간 기온 데이터\\n\", forecast_temp.head())\n",
        "# print(\"\\n1시간 적설량 데이터\\n\", forecast_snow.head())"
      ]
    },
    {
      "cell_type": "markdown",
      "source": [
        "### 데이터 병합"
      ],
      "metadata": {
        "id": "i73kBxxEPJRL"
      }
    },
    {
      "cell_type": "code",
      "source": [
        "fw_rain_df = pd.concat([add_forecast_rain, forecast_rain], ignore_index=True)\n",
        "fw_temp_df = pd.concat([add_forecast_temp, forecast_temp], ignore_index=True)\n",
        "fw_snow_df = pd.concat([add_forecast_snow, forecast_snow], ignore_index=True)\n",
        "fw_humidity_df = pd.concat([add_forecast_humidity, forecast_humidity], ignore_index=True)\n",
        "fw_wind_speed_df = pd.concat([add_forecast_wind_speed, forecast_wind_speed], ignore_index=True)\n",
        "fw_wind_direction_df = pd.concat([add_forecast_wind_direction, forecast_wind_direction], ignore_index=True)"
      ],
      "metadata": {
        "id": "wvGfOCW9PJA9"
      },
      "execution_count": 15,
      "outputs": []
    },
    {
      "cell_type": "markdown",
      "source": [
        "## actual_weather 데이터 전처리"
      ],
      "metadata": {
        "id": "Eq8XzjObYgjc"
      }
    },
    {
      "cell_type": "markdown",
      "source": [
        "### 필요한 데이터만 남긴 후 제거 및 열이름 변경\n",
        "(공통되는 데이터: 기온, 강수량, 적설, 습도, 풍속, 풍향)"
      ],
      "metadata": {
        "id": "HRvbwduZYrNE"
      }
    },
    {
      "cell_type": "code",
      "source": [
        "aw_df = pd.DataFrame(actual_weather)\n",
        "\n",
        "# 원본 데이터 변경 전 확인\n",
        "aw_df_filtered = aw_df.iloc[:, 1:7].join(aw_df.iloc[:, [13]])\n",
        "#print(aw_df_filtered)\n",
        "\n",
        "aw_df = aw_df_filtered\n",
        "\n",
        "# 열 이름 변경\n",
        "aw_df = aw_df.rename(columns={\n",
        "    '일시': '관측일시',\n",
        "    '기온(°C)': '기온_실제',\n",
        "    '강수량(mm)': '강수량_실제',\n",
        "    '풍속(m/s)': '풍속_실제',\n",
        "    '풍향(16방위)': '풍향_실제',\n",
        "    '습도(%)': '습도_실제',\n",
        "    '적설(cm)': '적설_실제'\n",
        "})\n",
        "\n",
        "print(aw_df)"
      ],
      "metadata": {
        "colab": {
          "base_uri": "https://localhost:8080/"
        },
        "id": "MK6In7abYqgx",
        "outputId": "91376782-7b27-48c1-b5dc-68eeef8eb090"
      },
      "execution_count": 16,
      "outputs": [
        {
          "output_type": "stream",
          "name": "stdout",
          "text": [
            "                  관측일시  기온_실제  강수량_실제  풍속_실제  풍향_실제  습도_실제  적설_실제\n",
            "0     2023-01-01 00:00    3.2     NaN    2.8  290.0     69    3.0\n",
            "1     2023-01-01 01:00    2.9     NaN    2.3  270.0     66    3.0\n",
            "2     2023-01-01 02:00    2.1     NaN    2.4  270.0     71    3.0\n",
            "3     2023-01-01 03:00    2.0     NaN    1.1  180.0     65    3.0\n",
            "4     2023-01-01 04:00    0.7     NaN    1.1  200.0     57    3.0\n",
            "...                ...    ...     ...    ...    ...    ...    ...\n",
            "8755  2023-12-31 19:00    0.3     NaN    1.5  360.0    100    NaN\n",
            "8756  2023-12-31 20:00   -0.7     NaN    0.7  340.0    100    NaN\n",
            "8757  2023-12-31 21:00   -1.6     NaN    0.7  340.0    100    NaN\n",
            "8758  2023-12-31 22:00   -1.6     NaN    1.0  360.0    100    NaN\n",
            "8759  2023-12-31 23:00   -2.2     NaN    0.8   20.0    100    NaN\n",
            "\n",
            "[8760 rows x 7 columns]\n"
          ]
        }
      ]
    },
    {
      "cell_type": "markdown",
      "source": [
        "### NaN을 0으로 대체"
      ],
      "metadata": {
        "id": "KLgFyONX-bQW"
      }
    },
    {
      "cell_type": "code",
      "source": [
        "# NaN 값을 0으로 채우기\n",
        "aw_df.fillna(0, inplace=True)\n",
        "\n",
        "#결과 출력\n",
        "print(aw_df)\n",
        "\n",
        "# actual_weather를 '실제관측데이터.csv' 파일로 저장\n",
        "aw_df.to_csv('실제관측데이터.csv', index=False, encoding='cp949')"
      ],
      "metadata": {
        "colab": {
          "base_uri": "https://localhost:8080/"
        },
        "id": "7fclhcgD-Vk3",
        "outputId": "983fe504-46b9-4ece-ad76-03ee8edf554c"
      },
      "execution_count": 17,
      "outputs": [
        {
          "output_type": "stream",
          "name": "stdout",
          "text": [
            "                  관측일시  기온_실제  강수량_실제  풍속_실제  풍향_실제  습도_실제  적설_실제\n",
            "0     2023-01-01 00:00    3.2     0.0    2.8  290.0     69    3.0\n",
            "1     2023-01-01 01:00    2.9     0.0    2.3  270.0     66    3.0\n",
            "2     2023-01-01 02:00    2.1     0.0    2.4  270.0     71    3.0\n",
            "3     2023-01-01 03:00    2.0     0.0    1.1  180.0     65    3.0\n",
            "4     2023-01-01 04:00    0.7     0.0    1.1  200.0     57    3.0\n",
            "...                ...    ...     ...    ...    ...    ...    ...\n",
            "8755  2023-12-31 19:00    0.3     0.0    1.5  360.0    100    0.0\n",
            "8756  2023-12-31 20:00   -0.7     0.0    0.7  340.0    100    0.0\n",
            "8757  2023-12-31 21:00   -1.6     0.0    0.7  340.0    100    0.0\n",
            "8758  2023-12-31 22:00   -1.6     0.0    1.0  360.0    100    0.0\n",
            "8759  2023-12-31 23:00   -2.2     0.0    0.8   20.0    100    0.0\n",
            "\n",
            "[8760 rows x 7 columns]\n"
          ]
        }
      ]
    },
    {
      "cell_type": "markdown",
      "source": [
        "## forecast_weather 데이터 전처리"
      ],
      "metadata": {
        "id": "GPrVL2QC3MjE"
      }
    },
    {
      "cell_type": "markdown",
      "source": [
        "### 데이터 합치기 / 중복 컬럼 제거"
      ],
      "metadata": {
        "id": "No2hTXDad6Ix"
      }
    },
    {
      "cell_type": "code",
      "source": [
        "# 각 데이터프레임에 날짜와 시간 예보시간 기준으로 합치기\n",
        "forecast_weather = pd.concat([fw_rain_df, fw_temp_df, fw_snow_df, fw_humidity_df, fw_wind_speed_df, fw_wind_direction_df],\n",
        "                          axis=1)\n",
        "\n",
        "fw_df = pd.DataFrame(forecast_weather)\n",
        "\n",
        "# 중복되는 날짜와 시간 컬럼 제거 (첫 번째 데이터프레임 기준으로 유지)\n",
        "fw_df = fw_df.loc[:, ~fw_df.columns.duplicated()]\n",
        "\n",
        "# forecast_weather를 '통합예보데이터.csv' 파일로 저장\n",
        "fw_df.to_csv('통합예보데이터.csv', index=False, encoding='cp949')"
      ],
      "metadata": {
        "id": "CdVfv6wRGX4v"
      },
      "execution_count": 18,
      "outputs": []
    },
    {
      "cell_type": "markdown",
      "source": [
        "### 날짜"
      ],
      "metadata": {
        "id": "OWLlSCSD7-NK"
      }
    },
    {
      "cell_type": "code",
      "source": [
        "# 2023년 1월 1일 데이터에만 없는 날짜 안내 행 추가\n",
        "# 빈 문자열을 NaN으로 변경하여 할당 (\"\" 빈 문자열을 넣었다가 데이터 타입 불일치 오류 발생 -> NaN으로 해결)\n",
        "fw_df.loc[0] = [' Start : 20221229 ', np.nan, np.nan, np.nan, np.nan, np.nan, np.nan, np.nan, np.nan]\n",
        "\n",
        "# 결과 확인\n",
        "# print(fw_df.head())\n",
        "\n",
        "### 날짜: Start:20230102 형식으로 중간중간 문자열 데이터 존재 -> 년월일 추출해 변환 2023-01-01\n",
        "# Start 행 날짜 형식으로 변경\n",
        "for day in fw_df['날짜']:\n",
        "  if \"Start\" in day:\n",
        "    date_str = day.split(\":\")[1].strip()\n",
        "    # 날짜 형식 변경: \"20231003\" -> \"2023-10-03\"\n",
        "    formatted_date = f\"{date_str[:4]}-{date_str[4:6]}-{date_str[6:]}\"\n",
        "    #print(formatted_date)\n",
        "    fw_df.loc[fw_df['날짜'] == day, '날짜'] = formatted_date\n",
        "\n",
        "# 날짜 열에서 숫자형이거나 다른 형식은 NaN으로 변환\n",
        "fw_df['날짜'] = fw_df['날짜'].apply(lambda x: x if isinstance(x, str) and len(x) == 10 else np.nan)\n",
        "\n",
        "# 숫자 행을 이전 행인 변경한 날짜로 채우기\n",
        "fw_df['날짜'] = fw_df['날짜'].ffill()\n",
        "\n",
        "print(fw_df)\n",
        "\n",
        "# forecast_weather를 '통합예보데이터.csv' 파일로 저장\n",
        "fw_df.to_csv('통합예보데이터.csv', index=False, encoding='cp949')"
      ],
      "metadata": {
        "id": "zy2UMto33lGa",
        "colab": {
          "base_uri": "https://localhost:8080/"
        },
        "outputId": "ff140868-568b-4182-f3ac-c60fe93809ef"
      },
      "execution_count": 22,
      "outputs": [
        {
          "output_type": "stream",
          "name": "stdout",
          "text": [
            "                날짜      시간  예보시간  강수량   기온   적설    습도   풍속     풍향\n",
            "0       2022-12-29     NaN   NaN  NaN  NaN  NaN   NaN  NaN    NaN\n",
            "1       2022-12-29   200.0   7.0  0.0 -5.0  0.0  70.0  1.6  202.0\n",
            "2       2022-12-29   200.0   8.0  0.0 -6.0  0.0  70.0  1.5  135.0\n",
            "3       2022-12-29   200.0   9.0  0.0 -6.0  0.0  75.0  1.7   27.0\n",
            "4       2022-12-29   200.0  10.0  0.0 -5.0  0.0  75.0  1.9   27.0\n",
            "...            ...     ...   ...  ...  ...  ...   ...  ...    ...\n",
            "187307  2023-12-31  2300.0  61.0  0.0 -2.0  0.0  85.0  2.9  316.0\n",
            "187308  2023-12-31  2300.0  62.0  0.0 -2.0  0.0  85.0  2.5  318.0\n",
            "187309  2023-12-31  2300.0  63.0  0.0 -3.0  0.0  85.0  2.1  323.0\n",
            "187310  2023-12-31  2300.0  64.0  0.0  NaN  0.0  85.0  1.9  328.0\n",
            "187311  2023-12-31     NaN   NaN  NaN  NaN  NaN   NaN  NaN    NaN\n",
            "\n",
            "[187312 rows x 9 columns]\n"
          ]
        }
      ]
    },
    {
      "cell_type": "markdown",
      "source": [
        "### 시간"
      ],
      "metadata": {
        "id": "mq5DsWHj8HiG"
      }
    },
    {
      "cell_type": "code",
      "source": [
        "### 시간: 2시 200 으로 표기 -> 2:00 시간 형식으로 변환\n",
        "fw_df['시간'] = fw_df['시간'].apply(\n",
        "    lambda x: f\"{int(x) // 100:02}:{int(x) % 100:02}\" if pd.notnull(x) and x != '' else x\n",
        "    )\n",
        "#print(fw_df['시간'])\n",
        "\n",
        "### 변경했던 Start 날짜 행 제거하기(NaN이 10개 이상일 경우)\n",
        "fw_df = fw_df[fw_df.isna().sum(axis=1) < 10]\n",
        "\n",
        "print(fw_df)"
      ],
      "metadata": {
        "colab": {
          "base_uri": "https://localhost:8080/"
        },
        "id": "hna1eP2W3pOO",
        "outputId": "1ac7bc87-f1e1-4716-e6bb-3b62b9890ead"
      },
      "execution_count": 23,
      "outputs": [
        {
          "output_type": "stream",
          "name": "stdout",
          "text": [
            "                날짜     시간  예보시간  강수량   기온   적설    습도   풍속     풍향\n",
            "0       2022-12-29    NaN   NaN  NaN  NaN  NaN   NaN  NaN    NaN\n",
            "1       2022-12-29  02:00   7.0  0.0 -5.0  0.0  70.0  1.6  202.0\n",
            "2       2022-12-29  02:00   8.0  0.0 -6.0  0.0  70.0  1.5  135.0\n",
            "3       2022-12-29  02:00   9.0  0.0 -6.0  0.0  75.0  1.7   27.0\n",
            "4       2022-12-29  02:00  10.0  0.0 -5.0  0.0  75.0  1.9   27.0\n",
            "...            ...    ...   ...  ...  ...  ...   ...  ...    ...\n",
            "187307  2023-12-31  23:00  61.0  0.0 -2.0  0.0  85.0  2.9  316.0\n",
            "187308  2023-12-31  23:00  62.0  0.0 -2.0  0.0  85.0  2.5  318.0\n",
            "187309  2023-12-31  23:00  63.0  0.0 -3.0  0.0  85.0  2.1  323.0\n",
            "187310  2023-12-31  23:00  64.0  0.0  NaN  0.0  85.0  1.9  328.0\n",
            "187311  2023-12-31    NaN   NaN  NaN  NaN  NaN   NaN  NaN    NaN\n",
            "\n",
            "[187312 rows x 9 columns]\n"
          ]
        }
      ]
    },
    {
      "cell_type": "markdown",
      "source": [
        "### 일시"
      ],
      "metadata": {
        "id": "v04x0fV28K9C"
      }
    },
    {
      "cell_type": "code",
      "source": [
        "### 일시: 날짜 + 시간 -> datetime 형식으로 결합 2023-01-01 2:00\n",
        "fw_df['일시'] = fw_df['날짜'].astype(str) + ' ' + fw_df['시간']\n",
        "fw_df['일시'] = pd.to_datetime(fw_df['일시'], format='%Y-%m-%d %H:%M')\n",
        "print(fw_df['일시'])\n",
        "\n",
        "# forecast_weather를 '통합예보데이터.csv' 파일로 저장\n",
        "fw_df.to_csv('통합예보데이터.csv', index=False, encoding='cp949')"
      ],
      "metadata": {
        "colab": {
          "base_uri": "https://localhost:8080/"
        },
        "id": "BndclHeg3qFZ",
        "outputId": "7bd300f5-720a-4a94-dc7b-079a1747eee7"
      },
      "execution_count": 24,
      "outputs": [
        {
          "output_type": "stream",
          "name": "stdout",
          "text": [
            "0                        NaT\n",
            "1        2022-12-29 02:00:00\n",
            "2        2022-12-29 02:00:00\n",
            "3        2022-12-29 02:00:00\n",
            "4        2022-12-29 02:00:00\n",
            "                 ...        \n",
            "187307   2023-12-31 23:00:00\n",
            "187308   2023-12-31 23:00:00\n",
            "187309   2023-12-31 23:00:00\n",
            "187310   2023-12-31 23:00:00\n",
            "187311                   NaT\n",
            "Name: 일시, Length: 187312, dtype: datetime64[ns]\n"
          ]
        }
      ]
    },
    {
      "cell_type": "markdown",
      "source": [
        "### 필요한 데이터 제외 제거 및 예측시간(일시+예보시간) 구하기\n",
        "(공통되는 데이터: 기온, 강수량, 적설, 습도, 풍속, 풍향)"
      ],
      "metadata": {
        "id": "XA-unMlkYr_1"
      }
    },
    {
      "cell_type": "code",
      "source": [
        "# 원본 데이터 변경 전 확인\n",
        "fw_df_filtered = fw_df.drop(columns=['날짜', '시간'])\n",
        "#print(fw_df_filtered)\n",
        "\n",
        "fw_df = fw_df_filtered\n",
        "#print(fw_df)\n",
        "\n",
        "# \"예보시간\"을 시간으로 변환 후 \"일시\"에 더해 \"예측시간\" 열 생성\n",
        "fw_df['예측일시'] = fw_df['일시'] + pd.to_timedelta(fw_df['예보시간'], unit='h')\n",
        "print(fw_df)"
      ],
      "metadata": {
        "colab": {
          "base_uri": "https://localhost:8080/"
        },
        "id": "ah70FhrBeDQm",
        "outputId": "58423419-5f13-454d-8485-cacdbacd9522"
      },
      "execution_count": 26,
      "outputs": [
        {
          "output_type": "stream",
          "name": "stdout",
          "text": [
            "        예보시간  강수량   기온   적설    습도   풍속     풍향                  일시  \\\n",
            "0        NaN  NaN  NaN  NaN   NaN  NaN    NaN                 NaT   \n",
            "1        7.0  0.0 -5.0  0.0  70.0  1.6  202.0 2022-12-29 02:00:00   \n",
            "2        8.0  0.0 -6.0  0.0  70.0  1.5  135.0 2022-12-29 02:00:00   \n",
            "3        9.0  0.0 -6.0  0.0  75.0  1.7   27.0 2022-12-29 02:00:00   \n",
            "4       10.0  0.0 -5.0  0.0  75.0  1.9   27.0 2022-12-29 02:00:00   \n",
            "...      ...  ...  ...  ...   ...  ...    ...                 ...   \n",
            "187307  61.0  0.0 -2.0  0.0  85.0  2.9  316.0 2023-12-31 23:00:00   \n",
            "187308  62.0  0.0 -2.0  0.0  85.0  2.5  318.0 2023-12-31 23:00:00   \n",
            "187309  63.0  0.0 -3.0  0.0  85.0  2.1  323.0 2023-12-31 23:00:00   \n",
            "187310  64.0  0.0  NaN  0.0  85.0  1.9  328.0 2023-12-31 23:00:00   \n",
            "187311   NaN  NaN  NaN  NaN   NaN  NaN    NaN                 NaT   \n",
            "\n",
            "                      예측일시  \n",
            "0                      NaT  \n",
            "1      2022-12-29 09:00:00  \n",
            "2      2022-12-29 10:00:00  \n",
            "3      2022-12-29 11:00:00  \n",
            "4      2022-12-29 12:00:00  \n",
            "...                    ...  \n",
            "187307 2024-01-03 12:00:00  \n",
            "187308 2024-01-03 13:00:00  \n",
            "187309 2024-01-03 14:00:00  \n",
            "187310 2024-01-03 15:00:00  \n",
            "187311                 NaT  \n",
            "\n",
            "[187312 rows x 9 columns]\n"
          ]
        }
      ]
    },
    {
      "cell_type": "markdown",
      "source": [
        "### 열 재정렬 및 열 이름 변경\n"
      ],
      "metadata": {
        "id": "k1hVR4SmT_1M"
      }
    },
    {
      "cell_type": "code",
      "source": [
        "# 열 순서 변경\n",
        "cols = ['일시', '예보시간', '예측일시', '기온', '강수량', '풍속', '풍향', '습도', '적설']\n",
        "fw_df = fw_df[cols]\n",
        "\n",
        "# 열 이름 변경\n",
        "fw_df = fw_df.rename(columns={\n",
        "    '기온': '기온_예측',\n",
        "    '강수량': '강수량_예측',\n",
        "    '풍속': '풍속_예측',\n",
        "    '풍향': '풍향_예측',\n",
        "    '습도': '습도_예측',\n",
        "    '적설': '적설_예측'\n",
        "})\n",
        "\n",
        "# 결과 출력\n",
        "print(fw_df)\n",
        "\n",
        "# forecast_weather를 '통합예보데이터.csv' 파일로 저장\n",
        "fw_df.to_csv('통합예보데이터.csv', index=False, encoding='cp949')"
      ],
      "metadata": {
        "colab": {
          "base_uri": "https://localhost:8080/"
        },
        "id": "NHMGqSoWT6_y",
        "outputId": "9da1d369-8679-4f6c-d0d3-2ed752d14cdf"
      },
      "execution_count": 27,
      "outputs": [
        {
          "output_type": "stream",
          "name": "stdout",
          "text": [
            "                        일시  예보시간                예측일시  기온_예측  강수량_예측  풍속_예측  \\\n",
            "0                      NaT   NaN                 NaT    NaN     NaN    NaN   \n",
            "1      2022-12-29 02:00:00   7.0 2022-12-29 09:00:00   -5.0     0.0    1.6   \n",
            "2      2022-12-29 02:00:00   8.0 2022-12-29 10:00:00   -6.0     0.0    1.5   \n",
            "3      2022-12-29 02:00:00   9.0 2022-12-29 11:00:00   -6.0     0.0    1.7   \n",
            "4      2022-12-29 02:00:00  10.0 2022-12-29 12:00:00   -5.0     0.0    1.9   \n",
            "...                    ...   ...                 ...    ...     ...    ...   \n",
            "187307 2023-12-31 23:00:00  61.0 2024-01-03 12:00:00   -2.0     0.0    2.9   \n",
            "187308 2023-12-31 23:00:00  62.0 2024-01-03 13:00:00   -2.0     0.0    2.5   \n",
            "187309 2023-12-31 23:00:00  63.0 2024-01-03 14:00:00   -3.0     0.0    2.1   \n",
            "187310 2023-12-31 23:00:00  64.0 2024-01-03 15:00:00    NaN     0.0    1.9   \n",
            "187311                 NaT   NaN                 NaT    NaN     NaN    NaN   \n",
            "\n",
            "        풍향_예측  습도_예측  적설_예측  \n",
            "0         NaN    NaN    NaN  \n",
            "1       202.0   70.0    0.0  \n",
            "2       135.0   70.0    0.0  \n",
            "3        27.0   75.0    0.0  \n",
            "4        27.0   75.0    0.0  \n",
            "...       ...    ...    ...  \n",
            "187307  316.0   85.0    0.0  \n",
            "187308  318.0   85.0    0.0  \n",
            "187309  323.0   85.0    0.0  \n",
            "187310  328.0   85.0    0.0  \n",
            "187311    NaN    NaN    NaN  \n",
            "\n",
            "[187312 rows x 9 columns]\n"
          ]
        }
      ]
    },
    {
      "cell_type": "markdown",
      "source": [
        "## 통합데이터"
      ],
      "metadata": {
        "id": "Zuq-dKIzvnYx"
      }
    },
    {
      "cell_type": "markdown",
      "source": [
        "### 관측일시와 예측일시 기준으로 병합"
      ],
      "metadata": {
        "id": "xaFh1Ct28Yly"
      }
    },
    {
      "cell_type": "code",
      "source": [
        "# 예보 데이터와 관측 데이터에서 날짜 열을 datetime 형식으로 변환\n",
        "fw_df['예측일시'] = pd.to_datetime(fw_df['예측일시'])\n",
        "aw_df['관측일시'] = pd.to_datetime(aw_df['관측일시'])\n",
        "\n",
        "# 예보 데이터를 실제 관측 데이터와 병합\n",
        "merged_df = pd.merge(\n",
        "    fw_df,  # 예보 데이터\n",
        "    aw_df,  # 관측 데이터\n",
        "    left_on=\"예측일시\",  # 예보 데이터의 예측일시\n",
        "    right_on=\"관측일시\",  # 관측 데이터의 관측일시\n",
        "    how=\"inner\"  # 내부 병합\n",
        ")\n",
        "\n",
        "merged_df = merged_df.sort_values(by=[\"예측일시\", \"예보시간\"])\n",
        "\n",
        "print(merged_df.head(10))\n",
        "\n",
        "# '통합데이터.csv' 파일로 저장\n",
        "merged_df.to_csv('통합데이터.csv', index=False, encoding='cp949')"
      ],
      "metadata": {
        "id": "IHWkl3CBGGMP",
        "colab": {
          "base_uri": "https://localhost:8080/"
        },
        "outputId": "43c01109-766e-4645-88f7-42026af75316"
      },
      "execution_count": 28,
      "outputs": [
        {
          "output_type": "stream",
          "name": "stdout",
          "text": [
            "                     일시  예보시간       예측일시  기온_예측  강수량_예측  풍속_예측  풍향_예측  습도_예측  \\\n",
            "640 2022-12-31 17:00:00   7.0 2023-01-01    0.0     0.0    3.5  333.0   85.0   \n",
            "576 2022-12-31 14:00:00  10.0 2023-01-01    0.0     0.0    3.5  333.0   85.0   \n",
            "512 2022-12-31 11:00:00  13.0 2023-01-01    0.0     0.0    3.5  333.0   85.0   \n",
            "448 2022-12-31 08:00:00  16.0 2023-01-01    0.0     0.0    3.5  333.0   85.0   \n",
            "408 2022-12-31 05:00:00  19.0 2023-01-01    0.0     0.0    3.6  336.0   80.0   \n",
            "368 2022-12-31 02:00:00  22.0 2023-01-01    0.0     0.0    3.6  336.0   80.0   \n",
            "328 2022-12-30 23:00:00  25.0 2023-01-01   -4.0     0.0    3.6  336.0   80.0   \n",
            "288 2022-12-30 20:00:00  28.0 2023-01-01   -4.0     0.0    3.6  336.0   80.0   \n",
            "248 2022-12-30 17:00:00  31.0 2023-01-01   -4.0     0.0    2.9  338.0   85.0   \n",
            "208 2022-12-30 14:00:00  34.0 2023-01-01   -4.0     0.0    2.9  338.0   85.0   \n",
            "\n",
            "     적설_예측       관측일시  기온_실제  강수량_실제  풍속_실제  풍향_실제  습도_실제  적설_실제  \n",
            "640    0.0 2023-01-01    3.2     0.0    2.8  290.0     69    3.0  \n",
            "576    0.0 2023-01-01    3.2     0.0    2.8  290.0     69    3.0  \n",
            "512    0.0 2023-01-01    3.2     0.0    2.8  290.0     69    3.0  \n",
            "448    0.0 2023-01-01    3.2     0.0    2.8  290.0     69    3.0  \n",
            "408    0.0 2023-01-01    3.2     0.0    2.8  290.0     69    3.0  \n",
            "368    0.0 2023-01-01    3.2     0.0    2.8  290.0     69    3.0  \n",
            "328    0.0 2023-01-01    3.2     0.0    2.8  290.0     69    3.0  \n",
            "288    0.0 2023-01-01    3.2     0.0    2.8  290.0     69    3.0  \n",
            "248    0.0 2023-01-01    3.2     0.0    2.8  290.0     69    3.0  \n",
            "208    0.0 2023-01-01    3.2     0.0    2.8  290.0     69    3.0  \n"
          ]
        }
      ]
    },
    {
      "cell_type": "markdown",
      "source": [
        "### 오차 열 생성 및 열 재정렬"
      ],
      "metadata": {
        "id": "4fHFUtEmxECX"
      }
    },
    {
      "cell_type": "code",
      "source": [
        "# 새로운 오차 열 생성\n",
        "merged_df['기온_오차'] = merged_df['기온_예측'] - merged_df['기온_실제']\n",
        "merged_df['강수량_오차'] = merged_df['강수량_예측'] - merged_df['강수량_실제']\n",
        "merged_df['풍속_오차'] = merged_df['풍속_예측'] - merged_df['풍속_실제']\n",
        "merged_df['풍향_오차'] = merged_df['풍향_예측'] - merged_df['풍향_실제']\n",
        "merged_df['습도_오차'] = merged_df['습도_예측'] - merged_df['습도_실제']\n",
        "merged_df['적설_오차'] = merged_df['적설_예측'] - merged_df['적설_실제']\n",
        "\n",
        "# 열 순서 변경\n",
        "cols = ['일시', '예보시간', '예측일시', '관측일시',\n",
        "                  '기온_예측', '기온_실제',\n",
        "                  '강수량_예측', '강수량_실제',\n",
        "                  '풍속_예측', '풍속_실제',\n",
        "                  '풍향_예측', '풍향_실제',\n",
        "                  '습도_예측', '습도_실제',\n",
        "                  '적설_예측', '적설_실제',\n",
        "                  '기온_오차', '강수량_오차', '풍속_오차', '풍향_오차', '습도_오차', '적설_오차']\n",
        "merged_df = merged_df[cols]\n",
        "\n",
        "\n",
        "# 결과 확인\n",
        "print(merged_df.head())\n",
        "\n",
        "# '통합데이터.csv' 파일로 저장\n",
        "merged_df.to_csv('통합데이터.csv', index=False, encoding='cp949')"
      ],
      "metadata": {
        "colab": {
          "base_uri": "https://localhost:8080/"
        },
        "id": "WNNdy_D6qV1g",
        "outputId": "885b0f25-3fa3-4749-d5c4-1d95e3c89efc"
      },
      "execution_count": 29,
      "outputs": [
        {
          "output_type": "stream",
          "name": "stdout",
          "text": [
            "                     일시  예보시간       예측일시       관측일시  기온_예측  기온_실제  강수량_예측  \\\n",
            "640 2022-12-31 17:00:00   7.0 2023-01-01 2023-01-01    0.0    3.2     0.0   \n",
            "576 2022-12-31 14:00:00  10.0 2023-01-01 2023-01-01    0.0    3.2     0.0   \n",
            "512 2022-12-31 11:00:00  13.0 2023-01-01 2023-01-01    0.0    3.2     0.0   \n",
            "448 2022-12-31 08:00:00  16.0 2023-01-01 2023-01-01    0.0    3.2     0.0   \n",
            "408 2022-12-31 05:00:00  19.0 2023-01-01 2023-01-01    0.0    3.2     0.0   \n",
            "\n",
            "     강수량_실제  풍속_예측  풍속_실제  ...  습도_예측  습도_실제  적설_예측  적설_실제  기온_오차  강수량_오차  \\\n",
            "640     0.0    3.5    2.8  ...   85.0     69    0.0    3.0   -3.2     0.0   \n",
            "576     0.0    3.5    2.8  ...   85.0     69    0.0    3.0   -3.2     0.0   \n",
            "512     0.0    3.5    2.8  ...   85.0     69    0.0    3.0   -3.2     0.0   \n",
            "448     0.0    3.5    2.8  ...   85.0     69    0.0    3.0   -3.2     0.0   \n",
            "408     0.0    3.6    2.8  ...   80.0     69    0.0    3.0   -3.2     0.0   \n",
            "\n",
            "     풍속_오차  풍향_오차  습도_오차  적설_오차  \n",
            "640    0.7   43.0   16.0   -3.0  \n",
            "576    0.7   43.0   16.0   -3.0  \n",
            "512    0.7   43.0   16.0   -3.0  \n",
            "448    0.7   43.0   16.0   -3.0  \n",
            "408    0.8   46.0   11.0   -3.0  \n",
            "\n",
            "[5 rows x 22 columns]\n"
          ]
        }
      ]
    },
    {
      "cell_type": "code",
      "source": [],
      "metadata": {
        "id": "Z1DEsLVLX9a8"
      },
      "execution_count": null,
      "outputs": []
    }
  ]
}
{
  "nbformat": 4,
  "nbformat_minor": 0,
  "metadata": {
    "colab": {
      "provenance": []
    },
    "kernelspec": {
      "name": "python3",
      "display_name": "Python 3"
    },
    "language_info": {
      "name": "python"
    }
  },
  "cells": [
    {
      "cell_type": "code",
      "execution_count": 41,
      "metadata": {
        "colab": {
          "base_uri": "https://localhost:8080/"
        },
        "id": "mnnhR2l_BXPc",
        "outputId": "ec3bebdd-52e2-4eb7-c35a-36487602a949"
      },
      "outputs": [
        {
          "output_type": "stream",
          "name": "stdout",
          "text": [
            "실제 기상 데이터\n",
            "     지점                일시  기온(°C)  강수량(mm)  풍속(m/s)  풍향(16방위)  습도(%)  증기압(hPa)  \\\n",
            "0  201  2023-01-01 00:00     3.2      NaN      2.8     290.0     69       5.3   \n",
            "1  201  2023-01-01 01:00     2.9      NaN      2.3     270.0     66       5.0   \n",
            "2  201  2023-01-01 02:00     2.1      NaN      2.4     270.0     71       5.0   \n",
            "3  201  2023-01-01 03:00     2.0      NaN      1.1     180.0     65       4.6   \n",
            "4  201  2023-01-01 04:00     0.7      NaN      1.1     200.0     57       3.7   \n",
            "\n",
            "   이슬점온도(°C)  현지기압(hPa)  ...  운형(운형약어)  최저운고(100m )  시정(10m)  지면상태(지면상태코드)  \\\n",
            "0       -1.9     1024.2  ...       NaN          NaN    799.0           NaN   \n",
            "1       -2.8     1023.8  ...       NaN         75.0    749.0           NaN   \n",
            "2       -2.6     1024.0  ...       NaN         15.0    675.0           NaN   \n",
            "3       -3.9     1024.3  ...       NaN         11.0    800.0           NaN   \n",
            "4       -6.8     1024.4  ...       NaN         13.0   1346.0           NaN   \n",
            "\n",
            "   현상번호(국내식)  지면온도(°C)  5cm 지중온도(°C)  10cm 지중온도(°C)  20cm 지중온도(°C)  \\\n",
            "0        NaN      -0.3           NaN            NaN            NaN   \n",
            "1        NaN      -0.3           NaN            NaN            NaN   \n",
            "2        NaN      -0.3           NaN            NaN            NaN   \n",
            "3        NaN      -0.3           NaN            NaN            NaN   \n",
            "4        NaN      -0.3           NaN            NaN            NaN   \n",
            "\n",
            "   30cm 지중온도(°C)  \n",
            "0            NaN  \n",
            "1            NaN  \n",
            "2            NaN  \n",
            "3            NaN  \n",
            "4            NaN  \n",
            "\n",
            "[5 rows x 27 columns]\n"
          ]
        }
      ],
      "source": [
        "import pandas as pd\n",
        "\n",
        "actual_weather_path = './SURFACE_ASOS_201_HR_2023_2023_2024.csv'\n",
        "forecast_rain_path = './불은면_1시간강수량_20230101_20231231.csv'\n",
        "forecast_temp_path = './불은면_1시간기온_20230101_20231231.csv'\n",
        "forecast_snow_path = './불은면_1시간적설_20230101_20231231.csv'\n",
        "forecast_rain_type_path = './불은면_강수형태_20230101_20231231.csv'\n",
        "forecast_rain_prob_path = './불은면_강수확률_20230101_20231231.csv'\n",
        "forecast_rain_humidity_path = './불은면_습도_20230101_20231231.csv'\n",
        "forecast_rain_speed_path = './불은면_풍속_20230101_20231231.csv'\n",
        "forecast_wind_direction_path = './불은면_풍향_20230101_20231231.csv'\n",
        "forecast_status_path = './불은면_하늘상태_20230101_20231231.csv'\n",
        "\n",
        "actual_weather = pd.read_csv(actual_weather_path, encoding='cp949')\n",
        "forecast_rain = pd.read_csv(forecast_rain_path, encoding='cp949', header=0, names=['날짜', '시간', '예보시간', '강수량'])\n",
        "forecast_temp = pd.read_csv(forecast_temp_path, encoding='cp949', header=0, names=['날짜', '시간', '예보시간', '기온'])\n",
        "forecast_snow = pd.read_csv(forecast_snow_path, encoding='cp949', header=0, names=['날짜', '시간', '예보시간', '적설'])\n",
        "forecast_rain_type = pd.read_csv(forecast_rain_type_path, encoding='cp949', header=0, names=['날짜', '시간', '예보시간', '강수형태'])\n",
        "forecast_rain_prob = pd.read_csv(forecast_rain_prob_path, encoding='cp949', header=0, names=['날짜', '시간', '예보시간', '강수확률'])\n",
        "forecast_rain_humidity = pd.read_csv(forecast_rain_humidity_path, encoding='cp949', header=0, names=['날짜', '시간', '예보시간', '습도'])\n",
        "forecast_rain_speed = pd.read_csv(forecast_rain_speed_path, encoding='cp949', header=0, names=['날짜', '시간', '예보시간', '풍속'])\n",
        "forecast_wind_direction = pd.read_csv(forecast_wind_direction_path, encoding='cp949', header=0, names=['날짜', '시간', '예보시간', '풍향'])\n",
        "forecast_status = pd.read_csv(forecast_status_path, encoding='cp949', header=0, names=['날짜', '시간', '예보시간', '하늘상태'])\n",
        "\n",
        "print(\"실제 기상 데이터\\n\", actual_weather.head())\n",
        "# print(\"\\n1시간 강수량 데이터\\n\", forecast_rain.head())\n",
        "# print(\"\\n1시간 기온 데이터\\n\", forecast_temp.head())\n",
        "# print(\"\\n1시간 적설량 데이터\\n\", forecast_snow.head())\n",
        "# print(\"\\n강수 형태 데이터\\n\", forecast_rain_type.head())\n",
        "# print(\"\\n강수 확률 데이터\\n\", forecast_rain_prob.head())\n",
        "# print(\"\\n하늘 상태 데이터\\n\", forecast_status.head())"
      ]
    },
    {
      "cell_type": "code",
      "source": [
        "# 각 데이터프레임에 날짜와 시간 예보시간 기준으로 합치기\n",
        "forecast_weather = pd.concat([forecast_rain, forecast_temp, forecast_snow, forecast_rain_type, forecast_rain_prob,\n",
        "                           forecast_rain_humidity, forecast_rain_speed, forecast_wind_direction, forecast_status],\n",
        "                          axis=1)\n",
        "\n",
        "fw_df = pd.DataFrame(forecast_weather)\n",
        "\n",
        "# 중복되는 날짜와 시간 컬럼 제거 (첫 번째 데이터프레임 기준으로 유지)\n",
        "fw_df = fw_df.loc[:, ~fw_df.columns.duplicated()]\n",
        "\n",
        "# 2023년 1월 1일 데이터에만 없는 날짜 안내 행 추가\n",
        "fw_df.loc[0]=[' Start : 20230101 ', \"\", \"\", \"\", \"\", \"\", \"\", \"\", \"\", \"\", \"\", \"\"]\n",
        "\n",
        "################################################시간 바꿀때 에러나니까 날짜부터 처리하고 행 삭제 필요할듯?\n",
        "\n",
        "# 결과 확인\n",
        "print(fw_df.head())\n",
        "\n",
        "# forecast_weather를 '통합예보데이터.csv' 파일로 저장\n",
        "# fw_df.to_csv('통합예보데이터.csv', index=False, encoding='cp949')\n",
        "\n",
        "############# forecast_weather 데이터 전처리 #############\n",
        "\n",
        "\n",
        "### 시간: 2시 200 으로 표기 -> 2:00 시간 형식으로 변환\n",
        "fw_df['시간'] = fw_df['시간'].apply(\n",
        "    lambda x: f\"{int(x // 100):02}:{int(x % 100):02}\" if pd.notnull(x) else x\n",
        "    )\n",
        "\n",
        "### 날짜: Start:20230102 형식으로 중간중간 문자열 데이터 존재 -> 년월일 추출해 변환\n",
        "for day in fw_df['날짜']:\n",
        "  if \"Start\" in day:\n",
        "    date_str = day.split(\":\")[1].strip()\n",
        "    print(date_str)"
      ],
      "metadata": {
        "colab": {
          "base_uri": "https://localhost:8080/",
          "height": 1000
        },
        "id": "CdVfv6wRGX4v",
        "outputId": "5c74539e-7f1f-4f3c-de92-0ec7ac513e53"
      },
      "execution_count": 69,
      "outputs": [
        {
          "output_type": "stream",
          "name": "stdout",
          "text": [
            "                   날짜     시간  예보시간  강수량   기온   적설 강수형태  강수확률    습도   풍속  \\\n",
            "0   Start : 20230101                                                      \n",
            "1                   1  200.0   7.0  0.0 -4.0  0.0  0.0   0.0  50.0  4.2   \n",
            "2                   1  200.0   8.0  0.0 -4.0  0.0  0.0  20.0  55.0  4.6   \n",
            "3                   1  200.0   9.0  0.0 -5.0  0.0  0.0  20.0  55.0  4.8   \n",
            "4                   1  200.0  10.0  0.0 -6.0  0.0  0.0  30.0  60.0  5.0   \n",
            "\n",
            "      풍향 하늘상태  \n",
            "0              \n",
            "1  318.0  1.0  \n",
            "2  318.0  3.0  \n",
            "3  320.0  3.0  \n",
            "4  322.0  4.0  \n"
          ]
        },
        {
          "output_type": "stream",
          "name": "stderr",
          "text": [
            "<ipython-input-69-7879ff376971>:12: FutureWarning: Setting an item of incompatible dtype is deprecated and will raise an error in a future version of pandas. Value '' has dtype incompatible with float64, please explicitly cast to a compatible dtype first.\n",
            "  fw_df.loc[0]=[' Start : 20230101 ', \"\", \"\", \"\", \"\", \"\", \"\", \"\", \"\", \"\", \"\", \"\"]\n",
            "<ipython-input-69-7879ff376971>:12: FutureWarning: Setting an item of incompatible dtype is deprecated and will raise an error in a future version of pandas. Value '' has dtype incompatible with float64, please explicitly cast to a compatible dtype first.\n",
            "  fw_df.loc[0]=[' Start : 20230101 ', \"\", \"\", \"\", \"\", \"\", \"\", \"\", \"\", \"\", \"\", \"\"]\n",
            "<ipython-input-69-7879ff376971>:12: FutureWarning: Setting an item of incompatible dtype is deprecated and will raise an error in a future version of pandas. Value '' has dtype incompatible with float64, please explicitly cast to a compatible dtype first.\n",
            "  fw_df.loc[0]=[' Start : 20230101 ', \"\", \"\", \"\", \"\", \"\", \"\", \"\", \"\", \"\", \"\", \"\"]\n",
            "<ipython-input-69-7879ff376971>:12: FutureWarning: Setting an item of incompatible dtype is deprecated and will raise an error in a future version of pandas. Value '' has dtype incompatible with float64, please explicitly cast to a compatible dtype first.\n",
            "  fw_df.loc[0]=[' Start : 20230101 ', \"\", \"\", \"\", \"\", \"\", \"\", \"\", \"\", \"\", \"\", \"\"]\n",
            "<ipython-input-69-7879ff376971>:12: FutureWarning: Setting an item of incompatible dtype is deprecated and will raise an error in a future version of pandas. Value '' has dtype incompatible with float64, please explicitly cast to a compatible dtype first.\n",
            "  fw_df.loc[0]=[' Start : 20230101 ', \"\", \"\", \"\", \"\", \"\", \"\", \"\", \"\", \"\", \"\", \"\"]\n",
            "<ipython-input-69-7879ff376971>:12: FutureWarning: Setting an item of incompatible dtype is deprecated and will raise an error in a future version of pandas. Value '' has dtype incompatible with float64, please explicitly cast to a compatible dtype first.\n",
            "  fw_df.loc[0]=[' Start : 20230101 ', \"\", \"\", \"\", \"\", \"\", \"\", \"\", \"\", \"\", \"\", \"\"]\n",
            "<ipython-input-69-7879ff376971>:12: FutureWarning: Setting an item of incompatible dtype is deprecated and will raise an error in a future version of pandas. Value '' has dtype incompatible with float64, please explicitly cast to a compatible dtype first.\n",
            "  fw_df.loc[0]=[' Start : 20230101 ', \"\", \"\", \"\", \"\", \"\", \"\", \"\", \"\", \"\", \"\", \"\"]\n",
            "<ipython-input-69-7879ff376971>:12: FutureWarning: Setting an item of incompatible dtype is deprecated and will raise an error in a future version of pandas. Value '' has dtype incompatible with float64, please explicitly cast to a compatible dtype first.\n",
            "  fw_df.loc[0]=[' Start : 20230101 ', \"\", \"\", \"\", \"\", \"\", \"\", \"\", \"\", \"\", \"\", \"\"]\n",
            "<ipython-input-69-7879ff376971>:12: FutureWarning: Setting an item of incompatible dtype is deprecated and will raise an error in a future version of pandas. Value '' has dtype incompatible with float64, please explicitly cast to a compatible dtype first.\n",
            "  fw_df.loc[0]=[' Start : 20230101 ', \"\", \"\", \"\", \"\", \"\", \"\", \"\", \"\", \"\", \"\", \"\"]\n",
            "<ipython-input-69-7879ff376971>:12: FutureWarning: Setting an item of incompatible dtype is deprecated and will raise an error in a future version of pandas. Value '' has dtype incompatible with float64, please explicitly cast to a compatible dtype first.\n",
            "  fw_df.loc[0]=[' Start : 20230101 ', \"\", \"\", \"\", \"\", \"\", \"\", \"\", \"\", \"\", \"\", \"\"]\n",
            "<ipython-input-69-7879ff376971>:12: FutureWarning: Setting an item of incompatible dtype is deprecated and will raise an error in a future version of pandas. Value '' has dtype incompatible with float64, please explicitly cast to a compatible dtype first.\n",
            "  fw_df.loc[0]=[' Start : 20230101 ', \"\", \"\", \"\", \"\", \"\", \"\", \"\", \"\", \"\", \"\", \"\"]\n"
          ]
        },
        {
          "output_type": "error",
          "ename": "TypeError",
          "evalue": "unsupported operand type(s) for //: 'str' and 'int'",
          "traceback": [
            "\u001b[0;31m---------------------------------------------------------------------------\u001b[0m",
            "\u001b[0;31mTypeError\u001b[0m                                 Traceback (most recent call last)",
            "\u001b[0;32m<ipython-input-69-7879ff376971>\u001b[0m in \u001b[0;36m<cell line: 24>\u001b[0;34m()\u001b[0m\n\u001b[1;32m     22\u001b[0m \u001b[0;34m\u001b[0m\u001b[0m\n\u001b[1;32m     23\u001b[0m \u001b[0;31m### 시간: 2시 200 으로 표기 -> 2:00 시간 형식으로 변환\u001b[0m\u001b[0;34m\u001b[0m\u001b[0;34m\u001b[0m\u001b[0m\n\u001b[0;32m---> 24\u001b[0;31m fw_df['시간'] = fw_df['시간'].apply(\n\u001b[0m\u001b[1;32m     25\u001b[0m     \u001b[0;32mlambda\u001b[0m \u001b[0mx\u001b[0m\u001b[0;34m:\u001b[0m \u001b[0;34mf\"{int(x // 100):02}:{int(x % 100):02}\"\u001b[0m \u001b[0;32mif\u001b[0m \u001b[0mpd\u001b[0m\u001b[0;34m.\u001b[0m\u001b[0mnotnull\u001b[0m\u001b[0;34m(\u001b[0m\u001b[0mx\u001b[0m\u001b[0;34m)\u001b[0m \u001b[0;32melse\u001b[0m \u001b[0mx\u001b[0m\u001b[0;34m\u001b[0m\u001b[0;34m\u001b[0m\u001b[0m\n\u001b[1;32m     26\u001b[0m     )\n",
            "\u001b[0;32m/usr/local/lib/python3.10/dist-packages/pandas/core/series.py\u001b[0m in \u001b[0;36mapply\u001b[0;34m(self, func, convert_dtype, args, by_row, **kwargs)\u001b[0m\n\u001b[1;32m   4922\u001b[0m             \u001b[0margs\u001b[0m\u001b[0;34m=\u001b[0m\u001b[0margs\u001b[0m\u001b[0;34m,\u001b[0m\u001b[0;34m\u001b[0m\u001b[0;34m\u001b[0m\u001b[0m\n\u001b[1;32m   4923\u001b[0m             \u001b[0mkwargs\u001b[0m\u001b[0;34m=\u001b[0m\u001b[0mkwargs\u001b[0m\u001b[0;34m,\u001b[0m\u001b[0;34m\u001b[0m\u001b[0;34m\u001b[0m\u001b[0m\n\u001b[0;32m-> 4924\u001b[0;31m         ).apply()\n\u001b[0m\u001b[1;32m   4925\u001b[0m \u001b[0;34m\u001b[0m\u001b[0m\n\u001b[1;32m   4926\u001b[0m     def _reindex_indexer(\n",
            "\u001b[0;32m/usr/local/lib/python3.10/dist-packages/pandas/core/apply.py\u001b[0m in \u001b[0;36mapply\u001b[0;34m(self)\u001b[0m\n\u001b[1;32m   1425\u001b[0m \u001b[0;34m\u001b[0m\u001b[0m\n\u001b[1;32m   1426\u001b[0m         \u001b[0;31m# self.func is Callable\u001b[0m\u001b[0;34m\u001b[0m\u001b[0;34m\u001b[0m\u001b[0m\n\u001b[0;32m-> 1427\u001b[0;31m         \u001b[0;32mreturn\u001b[0m \u001b[0mself\u001b[0m\u001b[0;34m.\u001b[0m\u001b[0mapply_standard\u001b[0m\u001b[0;34m(\u001b[0m\u001b[0;34m)\u001b[0m\u001b[0;34m\u001b[0m\u001b[0;34m\u001b[0m\u001b[0m\n\u001b[0m\u001b[1;32m   1428\u001b[0m \u001b[0;34m\u001b[0m\u001b[0m\n\u001b[1;32m   1429\u001b[0m     \u001b[0;32mdef\u001b[0m \u001b[0magg\u001b[0m\u001b[0;34m(\u001b[0m\u001b[0mself\u001b[0m\u001b[0;34m)\u001b[0m\u001b[0;34m:\u001b[0m\u001b[0;34m\u001b[0m\u001b[0;34m\u001b[0m\u001b[0m\n",
            "\u001b[0;32m/usr/local/lib/python3.10/dist-packages/pandas/core/apply.py\u001b[0m in \u001b[0;36mapply_standard\u001b[0;34m(self)\u001b[0m\n\u001b[1;32m   1505\u001b[0m         \u001b[0;31m#  Categorical (GH51645).\u001b[0m\u001b[0;34m\u001b[0m\u001b[0;34m\u001b[0m\u001b[0m\n\u001b[1;32m   1506\u001b[0m         \u001b[0maction\u001b[0m \u001b[0;34m=\u001b[0m \u001b[0;34m\"ignore\"\u001b[0m \u001b[0;32mif\u001b[0m \u001b[0misinstance\u001b[0m\u001b[0;34m(\u001b[0m\u001b[0mobj\u001b[0m\u001b[0;34m.\u001b[0m\u001b[0mdtype\u001b[0m\u001b[0;34m,\u001b[0m \u001b[0mCategoricalDtype\u001b[0m\u001b[0;34m)\u001b[0m \u001b[0;32melse\u001b[0m \u001b[0;32mNone\u001b[0m\u001b[0;34m\u001b[0m\u001b[0;34m\u001b[0m\u001b[0m\n\u001b[0;32m-> 1507\u001b[0;31m         mapped = obj._map_values(\n\u001b[0m\u001b[1;32m   1508\u001b[0m             \u001b[0mmapper\u001b[0m\u001b[0;34m=\u001b[0m\u001b[0mcurried\u001b[0m\u001b[0;34m,\u001b[0m \u001b[0mna_action\u001b[0m\u001b[0;34m=\u001b[0m\u001b[0maction\u001b[0m\u001b[0;34m,\u001b[0m \u001b[0mconvert\u001b[0m\u001b[0;34m=\u001b[0m\u001b[0mself\u001b[0m\u001b[0;34m.\u001b[0m\u001b[0mconvert_dtype\u001b[0m\u001b[0;34m\u001b[0m\u001b[0;34m\u001b[0m\u001b[0m\n\u001b[1;32m   1509\u001b[0m         )\n",
            "\u001b[0;32m/usr/local/lib/python3.10/dist-packages/pandas/core/base.py\u001b[0m in \u001b[0;36m_map_values\u001b[0;34m(self, mapper, na_action, convert)\u001b[0m\n\u001b[1;32m    919\u001b[0m             \u001b[0;32mreturn\u001b[0m \u001b[0marr\u001b[0m\u001b[0;34m.\u001b[0m\u001b[0mmap\u001b[0m\u001b[0;34m(\u001b[0m\u001b[0mmapper\u001b[0m\u001b[0;34m,\u001b[0m \u001b[0mna_action\u001b[0m\u001b[0;34m=\u001b[0m\u001b[0mna_action\u001b[0m\u001b[0;34m)\u001b[0m\u001b[0;34m\u001b[0m\u001b[0;34m\u001b[0m\u001b[0m\n\u001b[1;32m    920\u001b[0m \u001b[0;34m\u001b[0m\u001b[0m\n\u001b[0;32m--> 921\u001b[0;31m         \u001b[0;32mreturn\u001b[0m \u001b[0malgorithms\u001b[0m\u001b[0;34m.\u001b[0m\u001b[0mmap_array\u001b[0m\u001b[0;34m(\u001b[0m\u001b[0marr\u001b[0m\u001b[0;34m,\u001b[0m \u001b[0mmapper\u001b[0m\u001b[0;34m,\u001b[0m \u001b[0mna_action\u001b[0m\u001b[0;34m=\u001b[0m\u001b[0mna_action\u001b[0m\u001b[0;34m,\u001b[0m \u001b[0mconvert\u001b[0m\u001b[0;34m=\u001b[0m\u001b[0mconvert\u001b[0m\u001b[0;34m)\u001b[0m\u001b[0;34m\u001b[0m\u001b[0;34m\u001b[0m\u001b[0m\n\u001b[0m\u001b[1;32m    922\u001b[0m \u001b[0;34m\u001b[0m\u001b[0m\n\u001b[1;32m    923\u001b[0m     \u001b[0;34m@\u001b[0m\u001b[0mfinal\u001b[0m\u001b[0;34m\u001b[0m\u001b[0;34m\u001b[0m\u001b[0m\n",
            "\u001b[0;32m/usr/local/lib/python3.10/dist-packages/pandas/core/algorithms.py\u001b[0m in \u001b[0;36mmap_array\u001b[0;34m(arr, mapper, na_action, convert)\u001b[0m\n\u001b[1;32m   1741\u001b[0m     \u001b[0mvalues\u001b[0m \u001b[0;34m=\u001b[0m \u001b[0marr\u001b[0m\u001b[0;34m.\u001b[0m\u001b[0mastype\u001b[0m\u001b[0;34m(\u001b[0m\u001b[0mobject\u001b[0m\u001b[0;34m,\u001b[0m \u001b[0mcopy\u001b[0m\u001b[0;34m=\u001b[0m\u001b[0;32mFalse\u001b[0m\u001b[0;34m)\u001b[0m\u001b[0;34m\u001b[0m\u001b[0;34m\u001b[0m\u001b[0m\n\u001b[1;32m   1742\u001b[0m     \u001b[0;32mif\u001b[0m \u001b[0mna_action\u001b[0m \u001b[0;32mis\u001b[0m \u001b[0;32mNone\u001b[0m\u001b[0;34m:\u001b[0m\u001b[0;34m\u001b[0m\u001b[0;34m\u001b[0m\u001b[0m\n\u001b[0;32m-> 1743\u001b[0;31m         \u001b[0;32mreturn\u001b[0m \u001b[0mlib\u001b[0m\u001b[0;34m.\u001b[0m\u001b[0mmap_infer\u001b[0m\u001b[0;34m(\u001b[0m\u001b[0mvalues\u001b[0m\u001b[0;34m,\u001b[0m \u001b[0mmapper\u001b[0m\u001b[0;34m,\u001b[0m \u001b[0mconvert\u001b[0m\u001b[0;34m=\u001b[0m\u001b[0mconvert\u001b[0m\u001b[0;34m)\u001b[0m\u001b[0;34m\u001b[0m\u001b[0;34m\u001b[0m\u001b[0m\n\u001b[0m\u001b[1;32m   1744\u001b[0m     \u001b[0;32melse\u001b[0m\u001b[0;34m:\u001b[0m\u001b[0;34m\u001b[0m\u001b[0;34m\u001b[0m\u001b[0m\n\u001b[1;32m   1745\u001b[0m         return lib.map_infer_mask(\n",
            "\u001b[0;32mlib.pyx\u001b[0m in \u001b[0;36mpandas._libs.lib.map_infer\u001b[0;34m()\u001b[0m\n",
            "\u001b[0;32m<ipython-input-69-7879ff376971>\u001b[0m in \u001b[0;36m<lambda>\u001b[0;34m(x)\u001b[0m\n\u001b[1;32m     23\u001b[0m \u001b[0;31m### 시간: 2시 200 으로 표기 -> 2:00 시간 형식으로 변환\u001b[0m\u001b[0;34m\u001b[0m\u001b[0;34m\u001b[0m\u001b[0m\n\u001b[1;32m     24\u001b[0m fw_df['시간'] = fw_df['시간'].apply(\n\u001b[0;32m---> 25\u001b[0;31m     \u001b[0;32mlambda\u001b[0m \u001b[0mx\u001b[0m\u001b[0;34m:\u001b[0m \u001b[0;34mf\"{int(x // 100):02}:{int(x % 100):02}\"\u001b[0m \u001b[0;32mif\u001b[0m \u001b[0mpd\u001b[0m\u001b[0;34m.\u001b[0m\u001b[0mnotnull\u001b[0m\u001b[0;34m(\u001b[0m\u001b[0mx\u001b[0m\u001b[0;34m)\u001b[0m \u001b[0;32melse\u001b[0m \u001b[0mx\u001b[0m\u001b[0;34m\u001b[0m\u001b[0;34m\u001b[0m\u001b[0m\n\u001b[0m\u001b[1;32m     26\u001b[0m     )\n\u001b[1;32m     27\u001b[0m \u001b[0;34m\u001b[0m\u001b[0m\n",
            "\u001b[0;31mTypeError\u001b[0m: unsupported operand type(s) for //: 'str' and 'int'"
          ]
        }
      ]
    },
    {
      "cell_type": "code",
      "source": [],
      "metadata": {
        "id": "fiXpnZL2HG29"
      },
      "execution_count": null,
      "outputs": []
    }
  ]
}